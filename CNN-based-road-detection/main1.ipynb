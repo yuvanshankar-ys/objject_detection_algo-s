{
 "cells": [
  {
   "cell_type": "code",
   "execution_count": 111,
   "metadata": {},
   "outputs": [],
   "source": [
    "import pandas as pd\n",
    "import numpy as np\n",
    "import matplotlib.pyplot as plt\n",
    "import matplotlib.mlab as mlab\n",
    "import tensorflow as tf\n",
    "from keras.layers.pooling import MaxPooling2D\n",
    "from keras.models import Sequential, Model, load_model\n",
    "from keras.callbacks import EarlyStopping, Callback\n",
    "from keras.layers import Dense, Dropout, Activation, Flatten, Lambda, ELU,GlobalAveragePooling2D\n",
    "from keras.layers.convolutional import Convolution2D, Cropping2D, Conv2D\n",
    "from keras.layers.pooling import MaxPooling2D\n",
    "from keras.optimizers import adam\n",
    "from sklearn.utils import shuffle\n",
    "from keras.utils import np_utils\n",
    "import time, cv2, glob"
   ]
  },
  {
   "cell_type": "code",
   "execution_count": 112,
   "metadata": {},
   "outputs": [],
   "source": [
    "global inputShape,size"
   ]
  },
  {
   "cell_type": "code",
   "execution_count": 113,
   "metadata": {},
   "outputs": [],
   "source": [
    "def kerasModel4():\n",
    "        model = Sequential()\n",
    "        model.add(Conv2D(16, (8, 8), strides=(4, 4), padding='valid', input_shape=(size,size,1)))\n",
    "        model.add(Activation('relu'))\n",
    "        model.add(Conv2D(32, (5, 5), padding=\"same\"))\n",
    "        model.add(Activation('Leakyrelu'))\n",
    "        model.add(GlobalAveragePooling2D())\n",
    "        model.add(Dense(512))\n",
    "        model.add(Dropout(.1))\n",
    "        model.add(Activation('Leakyrelu'))\n",
    "        model.add(Dense(2))\n",
    "        model.add(Activation('softmax'))\n",
    "        return model"
   ]
  },
  {
   "cell_type": "code",
   "execution_count": 114,
   "metadata": {},
   "outputs": [],
   "source": [
    "size=300\n",
    "\n",
    " # load Training data : pothole\n",
    "potholeTrainImages = glob.glob(\"D:/pothole-detection-system-using-CNN/My Dataset/train/Pothole/*.jpg\")"
   ]
  },
  {
   "cell_type": "code",
   "execution_count": 115,
   "metadata": {},
   "outputs": [],
   "source": [
    "train1 = [cv2.imread(img,0) for img in potholeTrainImages]\n",
    "for i in range(0,len(train1)):\n",
    "    train1[i] = cv2.resize(train1[i],(size,size))\n",
    "temp1 = np.asarray(train1)"
   ]
  },
  {
   "cell_type": "code",
   "execution_count": 116,
   "metadata": {},
   "outputs": [],
   "source": [
    "#  ## load Training data : non-pothole\n",
    "nonPotholeTrainImages = glob.glob(\"D:/pothole-detection-system-using-CNN/My Dataset/train/Plain/*.jpg\")"
   ]
  },
  {
   "cell_type": "code",
   "execution_count": 117,
   "metadata": {},
   "outputs": [],
   "source": [
    "train2 = [cv2.imread(img,0) for img in nonPotholeTrainImages]\n",
    "for i in range(0,len(train2)):\n",
    "    train2[i] = cv2.resize(train2[i],(size,size))\n",
    "temp2 = np.asarray(train2)"
   ]
  },
  {
   "cell_type": "code",
   "execution_count": 118,
   "metadata": {},
   "outputs": [],
   "source": [
    "nonPotholeTestImages = glob.glob(\"D:/pothole-detection-system-using-CNN/My Dataset/test/Plain/*.jpg\")"
   ]
  },
  {
   "cell_type": "code",
   "execution_count": 119,
   "metadata": {},
   "outputs": [],
   "source": [
    "test2 = [cv2.imread(img,0) for img in nonPotholeTestImages]\n",
    "for i in range(0,len(test2)):\n",
    "    test2[i] = cv2.resize(test2[i],(size,size))\n",
    "temp4 = np.asarray(test2)"
   ]
  },
  {
   "cell_type": "code",
   "execution_count": 120,
   "metadata": {},
   "outputs": [],
   "source": [
    "potholeTestImages = glob.glob(\"D:/pothole-detection-system-using-CNN/My Dataset/test/Pothole/*.jpg\")"
   ]
  },
  {
   "cell_type": "code",
   "execution_count": 121,
   "metadata": {},
   "outputs": [],
   "source": [
    "test1 = [cv2.imread(img,0) for img in potholeTestImages]\n",
    "for i in range(0,len(test1)):\n",
    "    test1[i] = cv2.resize(test1[i],(size,size))\n",
    "temp3 = np.asarray(test1)"
   ]
  },
  {
   "cell_type": "code",
   "execution_count": 122,
   "metadata": {},
   "outputs": [],
   "source": [
    "X_train = []\n",
    "X_train.extend(temp1)\n",
    "X_train.extend(temp2)\n",
    "X_train = np.asarray(X_train)"
   ]
  },
  {
   "cell_type": "code",
   "execution_count": 123,
   "metadata": {},
   "outputs": [],
   "source": [
    "X_test = []\n",
    "X_test.extend(temp3)\n",
    "X_test.extend(temp4)\n",
    "X_test = np.asarray(X_test)"
   ]
  },
  {
   "cell_type": "code",
   "execution_count": 124,
   "metadata": {},
   "outputs": [],
   "source": [
    "y_train1 = np.ones([temp1.shape[0]],dtype = int)\n",
    "y_train1\n",
    "y_train1[0]\n",
    "y_train2 = np.zeros([temp2.shape[0]],dtype = int)\n",
    "y_train2\n",
    "shape.y_train2\n"
   ]
  },
  {
   "cell_type": "code",
   "execution_count": null,
   "metadata": {},
   "outputs": [],
   "source": [
    "y_train2[0]"
   ]
  },
  {
   "cell_type": "code",
   "execution_count": 130,
   "metadata": {},
   "outputs": [],
   "source": [
    "y_test1 = np.ones([temp3.shape[0]],dtype = int)\n",
    "y_test1[0]\n",
    "y_test2 = np.zeros([temp4.shape[0]],dtype = int)"
   ]
  },
  {
   "cell_type": "code",
   "execution_count": null,
   "metadata": {},
   "outputs": [],
   "source": [
    "print(y_train1[0])\n",
    "print(y_train2[0])\n",
    "print(y_test1[0])\n",
    "print(y_test2[0])"
   ]
  },
  {
   "cell_type": "code",
   "execution_count": 134,
   "metadata": {},
   "outputs": [],
   "source": [
    "y_train = []\n",
    "y_train.extend(y_train1)\n",
    "y_train.extend(y_train2)\n",
    "y_train = np.asarray(y_train)"
   ]
  },
  {
   "cell_type": "code",
   "execution_count": 135,
   "metadata": {},
   "outputs": [],
   "source": [
    "y_test = []\n",
    "y_test.extend(y_test1)\n",
    "y_test.extend(y_test2)\n",
    "y_test = np.asarray(y_test)"
   ]
  },
  {
   "cell_type": "code",
   "execution_count": 136,
   "metadata": {},
   "outputs": [],
   "source": [
    "X_train,y_train = shuffle(X_train,y_train)\n",
    "X_test,y_test = shuffle(X_test,y_test)"
   ]
  },
  {
   "cell_type": "code",
   "execution_count": 137,
   "metadata": {},
   "outputs": [],
   "source": [
    "X_train = X_train.reshape(X_train.shape[0], size, size, 1)\n",
    "X_test = X_test.reshape(X_test.shape[0], size, size, 1)"
   ]
  },
  {
   "cell_type": "code",
   "execution_count": 138,
   "metadata": {},
   "outputs": [],
   "source": [
    "y_train = np_utils.to_categorical(y_train)\n",
    "y_test = np_utils.to_categorical(y_test)"
   ]
  },
  {
   "cell_type": "code",
   "execution_count": null,
   "metadata": {},
   "outputs": [],
   "source": [
    "print(\"train shape X\", X_train.shape)\n",
    "print(\"train shape y\", y_train.shape)"
   ]
  },
  {
   "cell_type": "code",
   "execution_count": 140,
   "metadata": {},
   "outputs": [],
   "source": [
    "inputShape = (size, size, 1)\n",
    "model = kerasModel4()"
   ]
  },
  {
   "cell_type": "code",
   "execution_count": 141,
   "metadata": {},
   "outputs": [],
   "source": [
    "X_train = X_train/255\n",
    "X_test = X_test/255"
   ]
  },
  {
   "cell_type": "code",
   "execution_count": null,
   "metadata": {},
   "outputs": [],
   "source": [
    "model.compile('adam', 'categorical_crossentropy', ['accuracy'])\n",
    "history = model.fit(X_train, y_train, epochs=500,validation_split=0.1)\n",
    "print(\"\")"
   ]
  },
  {
   "cell_type": "code",
   "execution_count": null,
   "metadata": {},
   "outputs": [],
   "source": [
    "metricsTrain = model.evaluate(X_train, y_train)\n",
    "print(\"Training Accuracy: \",metricsTrain[1]*100,\"%\")\n",
    "\n",
    "print(\"\")"
   ]
  },
  {
   "cell_type": "code",
   "execution_count": null,
   "metadata": {},
   "outputs": [],
   "source": [
    "metricsTest = model.evaluate(X_test,y_test)\n",
    "print(\"Testing Accuracy: \",metricsTest[1]*100,\"%\")"
   ]
  },
  {
   "cell_type": "code",
   "execution_count": null,
   "metadata": {},
   "outputs": [],
   "source": [
    "metricsTest = model.evaluate(X_test,y_test)\n",
    "print(\"Testing Accuracy: \",metricsTest[1]*100,\"%\")"
   ]
  },
  {
   "cell_type": "code",
   "execution_count": null,
   "metadata": {},
   "outputs": [],
   "source": [
    "print(\"Saving model weights and configuration file\")\n",
    "model.save('model.h5')\n",
    "print(\"Saved model to disk\")"
   ]
  }
 ],
 "metadata": {
  "kernelspec": {
   "display_name": "base",
   "language": "python",
   "name": "python3"
  },
  "language_info": {
   "codemirror_mode": {
    "name": "ipython",
    "version": 3
   },
   "file_extension": ".py",
   "mimetype": "text/x-python",
   "name": "python",
   "nbconvert_exporter": "python",
   "pygments_lexer": "ipython3",
   "version": "3.9.7"
  },
  "orig_nbformat": 4
 },
 "nbformat": 4,
 "nbformat_minor": 2
}
