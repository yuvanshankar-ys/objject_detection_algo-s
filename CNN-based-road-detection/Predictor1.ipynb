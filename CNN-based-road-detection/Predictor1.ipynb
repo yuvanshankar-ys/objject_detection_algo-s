{
 "cells": [
  {
   "cell_type": "code",
   "execution_count": 1,
   "metadata": {},
   "outputs": [],
   "source": [
    "import numpy as np\n",
    "import cv2\n",
    "import glob\n",
    "from keras.models import Sequential\n",
    "from keras.models import load_model\n",
    "from sklearn.preprocessing import LabelBinarizer\n",
    "from sklearn.model_selection import train_test_split\n",
    "from keras.utils import np_utils"
   ]
  },
  {
   "cell_type": "code",
   "execution_count": 2,
   "metadata": {},
   "outputs": [],
   "source": [
    "import tensorflow as tf\n",
    "from tensorflow import keras\n",
    "from tensorflow.keras import layers"
   ]
  },
  {
   "cell_type": "code",
   "execution_count": 3,
   "metadata": {},
   "outputs": [],
   "source": [
    "global size\n",
    "# OG size = 300\n",
    "size = 300\n",
    "model = keras.Sequential()\n",
    "model = tf.keras.models.load_model('D:/pothole-detection-system-using-CNN/Real-time Files/full_model.h5')\n"
   ]
  },
  {
   "cell_type": "code",
   "execution_count": 4,
   "metadata": {},
   "outputs": [],
   "source": [
    "nonPotholeTestImages = glob.glob(\"D:/pothole-detection-system-using-CNN/My Dataset/test/Plain/*.jpg\")"
   ]
  },
  {
   "cell_type": "code",
   "execution_count": 5,
   "metadata": {},
   "outputs": [],
   "source": [
    "test2 = [cv2.imread(img,0) for img in nonPotholeTestImages]\n",
    "# train2[train2 != np.array(None)]\n",
    "for i in range(0,len(test2)):\n",
    "    test2[i] = cv2.resize(test2[i],(size,size))\n",
    "temp4 = np.asarray(test2)"
   ]
  },
  {
   "cell_type": "code",
   "execution_count": 6,
   "metadata": {},
   "outputs": [],
   "source": [
    "potholeTestImages = glob.glob(\"D:/pothole-detection-system-using-CNN/My Dataset/test/Pothole/*.jpg\")"
   ]
  },
  {
   "cell_type": "code",
   "execution_count": 7,
   "metadata": {},
   "outputs": [],
   "source": [
    "test1 = [cv2.imread(img,0) for img in potholeTestImages]\n",
    "# train2[train2 != np.array(None)]\n",
    "for i in range(0,len(test1)):\n",
    "    test1[i] = cv2.resize(test1[i],(size,size))\n",
    "temp3 = np.asarray(test1)"
   ]
  },
  {
   "cell_type": "code",
   "execution_count": 8,
   "metadata": {},
   "outputs": [],
   "source": [
    "X_test = []\n",
    "X_test.extend(temp3)\n",
    "X_test.extend(temp4)\n",
    "X_test = np.asarray(X_test)\n",
    "\n",
    "X_test = X_test.reshape(X_test.shape[0], size, size, 1)\n"
   ]
  },
  {
   "cell_type": "code",
   "execution_count": 9,
   "metadata": {},
   "outputs": [],
   "source": [
    "y_test1 = np.ones([temp3.shape[0]],dtype = int)\n",
    "y_test2 = np.zeros([temp4.shape[0]],dtype = int)"
   ]
  },
  {
   "cell_type": "code",
   "execution_count": null,
   "metadata": {},
   "outputs": [],
   "source": [
    "y_test = []\n",
    "y_test.extend(y_test1)\n",
    "y_test.extend(y_test2)\n",
    "y_test = np.asarray(y_test)\n",
    "\n",
    "y_test = np_utils.to_categorical(y_test)\n",
    "\n",
    "\n",
    "print(\"\")"
   ]
  },
  {
   "cell_type": "code",
   "execution_count": null,
   "metadata": {},
   "outputs": [],
   "source": [
    "X_test = X_test/255\n",
    "tests = model.predict(X_test)\n",
    "for i in range(len(X_test)):\n",
    "\tprint(\">>> Predicted %d = %s\" % (i,tests[i]))"
   ]
  },
  {
   "cell_type": "code",
   "execution_count": null,
   "metadata": {},
   "outputs": [],
   "source": [
    "print(\"\")\n",
    "metrics = model.evaluate(X_test, y_test)\n",
    "print(\"Test Accuracy: \",metrics[1]*100,\"%\")"
   ]
  }
 ],
 "metadata": {
  "kernelspec": {
   "display_name": "base",
   "language": "python",
   "name": "python3"
  },
  "language_info": {
   "codemirror_mode": {
    "name": "ipython",
    "version": 3
   },
   "file_extension": ".py",
   "mimetype": "text/x-python",
   "name": "python",
   "nbconvert_exporter": "python",
   "pygments_lexer": "ipython3",
   "version": "3.9.7"
  },
  "orig_nbformat": 4
 },
 "nbformat": 4,
 "nbformat_minor": 2
}
